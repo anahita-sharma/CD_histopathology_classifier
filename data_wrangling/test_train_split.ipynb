{
 "cells": [
  {
   "cell_type": "markdown",
   "metadata": {},
   "source": [
    "split for inova crohns vs cincinnati crohns"
   ]
  },
  {
   "cell_type": "code",
   "execution_count": 10,
   "metadata": {},
   "outputs": [],
   "source": [
    "import pandas as pd\n",
    "import numpy as np\n",
    "import os\n",
    "import shutil\n",
    "import random\n",
    "from sklearn import model_selection"
   ]
  },
  {
   "cell_type": "code",
   "execution_count": 11,
   "metadata": {},
   "outputs": [],
   "source": [
    "def test_train_split_patches(source, dest = None, copy = False):\n",
    "    \n",
    "    '''\n",
    "    Performs test train split on PATCHED images. Test size 0.25, train size 0.75.\n",
    "    \n",
    "    Inputs: \n",
    "        source: Path of directory where patched images are located\n",
    "        dest: Path of directory to copy split images to\n",
    "        copy: If true, copies the patched images over\n",
    "        \n",
    "    Output:\n",
    "        dataframe with image label column, and test/train label column\n",
    "    '''\n",
    "    \n",
    "    # Get list of participant IDs\n",
    "    files = os.listdir(source) # get list of image files\n",
    "    labels = [label.split('__')[0] for label in files] # extract only patient labels from files\n",
    "    labels = np.unique(labels)\n",
    "    \n",
    "    # Test train split\n",
    "    split = model_selection.train_test_split(labels)\n",
    "    train, val = split[0], split[1]\n",
    "    \n",
    "    # Split image files into test, train\n",
    "    train_files = []\n",
    "    for label in train:\n",
    "        train_files += [file for file in files if label in file]\n",
    "    val_files = []\n",
    "    for label in val:\n",
    "        val_files += [file for file in files if label in file]\n",
    "        \n",
    "    train_df = pd.DataFrame(train_files, columns = ['image'])\n",
    "    train_df['label'] = 'train'\n",
    "    \n",
    "    val_df = pd.DataFrame(val_files, columns = ['image'])\n",
    "    val_df['label'] = 'val'\n",
    "    \n",
    "    \n",
    "    # Extract group from path\n",
    "    group = source.split('/')[-1]\n",
    "    \n",
    "    # Copy files to new directory\n",
    "    if copy == True:\n",
    "        # Copy files over\n",
    "        for file in train_files:\n",
    "            shutil.copy(source+file, dest+'train/'+group)\n",
    "        print('Successfully copied files to', dest+'train/'+group)\n",
    "\n",
    "        for file in val_files:\n",
    "            shutil.copy(source+file, dest+'val/'+group)\n",
    "        print('Successfully copied files to', dest+'val/'+group)\n",
    "    \n",
    "    out_df = pd.concat([train_df, val_df])\n",
    "    \n",
    "    return out_df"
   ]
  },
  {
   "cell_type": "code",
   "execution_count": 12,
   "metadata": {},
   "outputs": [],
   "source": [
    "# Set path to images\n",
    "inova_path = '/sfs/qumulo/qproject/GutIntelligenceLab/msds/data/INOVA/patched/Crohns'\n",
    "cinc_path  = '/sfs/qumulo/qproject/GutIntelligenceLab/msds/data/Cincinnati/patched/Crohns'\n",
    "\n",
    "# I was running into issues where the split included a '.ipynb_chekpoints' folder.\n",
    "# Creates file list and removes the '.ipynb_chekpoints' folder\n",
    "inova_imgs = [i for i in os.listdir(inova_path) if 'ipynb' not in i]\n",
    "cinc_imgs  = [i for i in os.listdir(cinc_path) if 'ipynb' not in i]\n",
    "\n",
    "np.random.seed(69)\n",
    "inova_split = test_train_split_patches(inova_path)\n",
    "cinc_split  = test_train_split_patches(cinc_path)"
   ]
  },
  {
   "cell_type": "code",
   "execution_count": 13,
   "metadata": {},
   "outputs": [],
   "source": [
    "def test_train_split_WSIs(image_list, dest = None, copy = False):\n",
    "\n",
    "    '''\n",
    "    Performs test train split on unpatched whole slide images\n",
    "    \n",
    "    Inputs: \n",
    "        source: list of image filenames \n",
    "        dest: Path of directory to copy split images to\n",
    "        copy: If true, copies the patched images over\n",
    "    '''\n",
    "    \n",
    "    # Perform test train split on files\n",
    "    split = model_selection.train_test_split(image_list)\n",
    "\n",
    "    train_files = split[0]\n",
    "    val_files = split[1]\n",
    "\n",
    "    if copy == True:\n",
    "        # Copy files over\n",
    "        for file in train_files:\n",
    "            shutil.copy(source+file, dest+'train/'+group)\n",
    "        print('Successfully copied files to', dest+'train/'+group)\n",
    "\n",
    "        for file in train_files:\n",
    "            shutil.copy(source+file, dest+'val/'+group)\n",
    "        print('Successfully copied files to', dest+'val/'+group)\n",
    "\n",
    "    # Strip file extention from image files\n",
    "    train_labels = [label.split('.')[0] for label in train_files] \n",
    "    val_labels = [label.split('.')[0] for label in val_files]\n",
    "    \n",
    "    # Put into dataframes\n",
    "    train_df = pd.DataFrame(train_labels, columns = ['label'])\n",
    "    train_df['set'] = 'train'\n",
    "    \n",
    "    val_df = pd.DataFrame(val_labels, columns = ['label'])\n",
    "    val_df['set'] = 'val'\n",
    "    \n",
    "    out_df = pd.concat([train_df, val_df])\n",
    "    \n",
    "    return out_df"
   ]
  },
  {
   "cell_type": "code",
   "execution_count": 14,
   "metadata": {},
   "outputs": [],
   "source": [
    "def extract_patches(wsi_labels, patch_labels):\n",
    "    patch_list = []\n",
    "    for i in wsi_labels:\n",
    "        new = [patch for patch in patch_labels if i in patch]\n",
    "        patch_list = patch_list + new\n",
    "    return patch_list"
   ]
  },
  {
   "cell_type": "markdown",
   "metadata": {},
   "source": [
    "### Perform test/train split on whole slide image labels"
   ]
  },
  {
   "cell_type": "code",
   "execution_count": 8,
   "metadata": {},
   "outputs": [
    {
     "data": {
      "text/plain": [
       "55448"
      ]
     },
     "execution_count": 8,
     "metadata": {},
     "output_type": "execute_result"
    }
   ],
   "source": [
    "path = '/sfs/qumulo/qproject/GutIntelligenceLab/msds/data/INOVA/'\n",
    "len(os.listdir(os.path.join(path, 'patched', 'Crohns')))"
   ]
  },
  {
   "cell_type": "code",
   "execution_count": 15,
   "metadata": {},
   "outputs": [],
   "source": [
    "# Set path to images\n",
    "inova_path = '/sfs/qumulo/qproject/GutIntelligenceLab/msds/data/INOVA/unpatched/Crohns'\n",
    "cinc_path1  = '/sfs/qumulo/qproject/GutIntelligenceLab/msds/data/Cincinnati/unpatched/B1'\n",
    "cinc_path2  = '/sfs/qumulo/qproject/GutIntelligenceLab/msds/data/Cincinnati/unpatched/B2'\n",
    "cinc_path3  = '/sfs/qumulo/qproject/GutIntelligenceLab/msds/data/Cincinnati/unpatched/B2_B3'\n",
    "cinc_path4  = '/sfs/qumulo/qproject/GutIntelligenceLab/msds/data/Cincinnati/unpatched/B3'\n",
    "\n",
    "# I was running into issues where the split included a '.ipynb_chekpoints' folder.\n",
    "# Creates file list and removes the '.ipynb_chekpoints' folder\n",
    "inova_imgs = [i for i in os.listdir(inova_path) if 'ipynb' not in i]\n",
    "cinc_imgs1  = [i for i in os.listdir(cinc_path1) if 'ipynb' not in i]\n",
    "cinc_imgs2  = [i for i in os.listdir(cinc_path2) if 'ipynb' not in i]\n",
    "cinc_imgs3  = [i for i in os.listdir(cinc_path3) if 'ipynb' not in i]\n",
    "cinc_imgs4  = [i for i in os.listdir(cinc_path4) if 'ipynb' not in i]\n",
    "cinc_imgs = cinc_imgs1+cinc_imgs2+cinc_imgs3+cinc_imgs4\n",
    "\n",
    "np.random.seed(69)\n",
    "inova_split = test_train_split_WSIs(inova_imgs)\n",
    "cinc_split  = test_train_split_WSIs(cinc_imgs)"
   ]
  },
  {
   "cell_type": "code",
   "execution_count": 16,
   "metadata": {},
   "outputs": [
    {
     "data": {
      "text/plain": [
       "260"
      ]
     },
     "execution_count": 16,
     "metadata": {},
     "output_type": "execute_result"
    }
   ],
   "source": [
    "len(inova_split)"
   ]
  },
  {
   "cell_type": "code",
   "execution_count": 17,
   "metadata": {},
   "outputs": [
    {
     "data": {
      "text/plain": [
       "181"
      ]
     },
     "execution_count": 17,
     "metadata": {},
     "output_type": "execute_result"
    }
   ],
   "source": [
    "len(cinc_split)"
   ]
  },
  {
   "cell_type": "markdown",
   "metadata": {},
   "source": [
    "### Using split from WSIs, extract correct patched file labels"
   ]
  },
  {
   "cell_type": "code",
   "execution_count": 18,
   "metadata": {},
   "outputs": [],
   "source": [
    "inova_train = list(inova_split[inova_split.set == 'train'].label)\n",
    "inova_test = list(inova_split[inova_split.set == 'val'].label)\n",
    "cinc_train = list(cinc_split[cinc_split.set == 'train'].label)\n",
    "cinc_test = list(cinc_split[cinc_split.set == 'val'].label)\n",
    "\n",
    "# Set paths\n",
    "inova_path = '/sfs/qumulo/qproject/GutIntelligenceLab/msds/data/INOVA/patched/Crohns'\n",
    "cinc_path  = '/sfs/qumulo/qproject/GutIntelligenceLab/msds/data/Cincinnati/patched/Crohns'\n",
    "\n",
    "# Creates file list and removes the '.ipynb_chekpoints' folder\n",
    "inova_patches = [i for i in os.listdir(inova_path) if 'ipynb' not in i]\n",
    "cinc_patches  = [i for i in os.listdir(cinc_path) if 'ipynb' not in i]\n",
    "cinc_patches  = random.sample(cinc_patches, len(inova_patches)) # to have equal dataset sizes\n",
    "\n",
    "# Split the patches\n",
    "inova_train_patches = extract_patches(inova_train, inova_patches)\n",
    "inova_test_patches = extract_patches(inova_test, inova_patches)\n",
    "cinc_train_patches = extract_patches(cinc_train, cinc_patches)\n",
    "cinc_test_patches = extract_patches(cinc_test, cinc_patches)\n",
    "\n",
    "# Put into dataframes\n",
    "inova_train_df = pd.DataFrame(extract_patches(inova_train, inova_patches), columns = ['label'])\n",
    "inova_train_df['loc'] = 0\n",
    "inova_train_df['set'] = 'train'\n",
    "inova_val_df =  pd.DataFrame(extract_patches(inova_test, inova_patches), columns = ['label'])\n",
    "inova_val_df['loc'] = 0\n",
    "inova_val_df['set'] = 'val'\n",
    "cinc_train_df =  pd.DataFrame(extract_patches(cinc_train, cinc_patches), columns = ['label'])\n",
    "cinc_train_df['loc'] = 1\n",
    "cinc_train_df['set'] = 'train'\n",
    "cinc_val_df =  pd.DataFrame(extract_patches(cinc_test, cinc_patches), columns = ['label'])\n",
    "cinc_val_df['loc'] = 1\n",
    "cinc_val_df['set'] = 'val'\n",
    "\n",
    "inova_vs_cinc_train = pd.concat([inova_train_df,cinc_train_df])\n",
    "inova_vs_cinc_val = pd.concat([inova_val_df,cinc_val_df])"
   ]
  },
  {
   "cell_type": "markdown",
   "metadata": {},
   "source": [
    "### Export to CSV"
   ]
  },
  {
   "cell_type": "code",
   "execution_count": 22,
   "metadata": {},
   "outputs": [],
   "source": [
    "out = '/sfs/qumulo/qproject/GutIntelligenceLab/bwl3xy/data/inova_vs_cinc_crohns'\n",
    "os.chdir(out)\n",
    "\n",
    "inova_vs_cinc_train.to_csv(os.path.join(out,'inova_vs_cinc_train.csv'), index = False, header=False)\n",
    "inova_vs_cinc_val.to_csv(os.path.join(out,'inova_vs_cinc_val.csv'), index = False, header = False)\n",
    "# inova_vs_cinc.to_csv(os.path.join(out,'inova_vs_cinc.csv'), index = False)\n",
    "# inova_train_df.to_csv(os.path.join(out,'inova_train.csv'), index = False)\n",
    "# inova_val_df.to_csv('inova_val.csv', index = False)\n",
    "# cinc_train_df.to_csv('cinc_train.csv', index = False)\n",
    "# cinc_val_df.to_csv('cinc_val.csv', index = False)"
   ]
  },
  {
   "cell_type": "markdown",
   "metadata": {},
   "source": [
    "### Import back in to do some data exploration"
   ]
  },
  {
   "cell_type": "code",
   "execution_count": 3,
   "metadata": {},
   "outputs": [],
   "source": [
    "os.chdir('/sfs/qumulo/qproject/GutIntelligenceLab/bwl3xy/data/inova_vs_cinc_crohns/')"
   ]
  },
  {
   "cell_type": "code",
   "execution_count": 4,
   "metadata": {},
   "outputs": [],
   "source": [
    "train = pd.read_csv('inova_vs_cinc_train.csv', header=None)\n",
    "val = pd.read_csv('inova_vs_cinc_val.csv', header=None)"
   ]
  },
  {
   "cell_type": "code",
   "execution_count": null,
   "metadata": {},
   "outputs": [],
   "source": []
  },
  {
   "cell_type": "code",
   "execution_count": 5,
   "metadata": {},
   "outputs": [],
   "source": [
    "inova_train = len(train[train[1] == 0])/(len(train[train[1] == 0])+len(train[train[1] == 1]))\n",
    "inova_val = len(val[val[1] == 0])/(len(val[val[1] == 0])+len(val[val[1] == 1]))\n",
    "cinc_train = len(train[train[1] == 1])/(len(train[train[1] == 0])+len(train[train[1] == 1]))\n",
    "cinc_val = len(val[val[1] == 1])/(len(val[val[1] == 0])+len(val[val[1] == 1]))"
   ]
  },
  {
   "cell_type": "code",
   "execution_count": 7,
   "metadata": {},
   "outputs": [
    {
     "data": {
      "text/html": [
       "<div>\n",
       "<style scoped>\n",
       "    .dataframe tbody tr th:only-of-type {\n",
       "        vertical-align: middle;\n",
       "    }\n",
       "\n",
       "    .dataframe tbody tr th {\n",
       "        vertical-align: top;\n",
       "    }\n",
       "\n",
       "    .dataframe thead th {\n",
       "        text-align: right;\n",
       "    }\n",
       "</style>\n",
       "<table border=\"1\" class=\"dataframe\">\n",
       "  <thead>\n",
       "    <tr style=\"text-align: right;\">\n",
       "      <th></th>\n",
       "      <th>0</th>\n",
       "      <th>1</th>\n",
       "      <th>2</th>\n",
       "    </tr>\n",
       "  </thead>\n",
       "  <tbody>\n",
       "    <tr>\n",
       "      <th>0</th>\n",
       "      <td>INCR0077_A_003__5120_12288.jpg</td>\n",
       "      <td>0</td>\n",
       "      <td>train</td>\n",
       "    </tr>\n",
       "    <tr>\n",
       "      <th>1</th>\n",
       "      <td>INCR0077_A_003__14336_9216.jpg</td>\n",
       "      <td>0</td>\n",
       "      <td>train</td>\n",
       "    </tr>\n",
       "    <tr>\n",
       "      <th>2</th>\n",
       "      <td>INCR0077_A_003__13312_9728.jpg</td>\n",
       "      <td>0</td>\n",
       "      <td>train</td>\n",
       "    </tr>\n",
       "    <tr>\n",
       "      <th>3</th>\n",
       "      <td>INCR0077_A_003__2560_9728.jpg</td>\n",
       "      <td>0</td>\n",
       "      <td>train</td>\n",
       "    </tr>\n",
       "    <tr>\n",
       "      <th>4</th>\n",
       "      <td>INCR0077_A_003__9728_5632.jpg</td>\n",
       "      <td>0</td>\n",
       "      <td>train</td>\n",
       "    </tr>\n",
       "    <tr>\n",
       "      <th>...</th>\n",
       "      <td>...</td>\n",
       "      <td>...</td>\n",
       "      <td>...</td>\n",
       "    </tr>\n",
       "    <tr>\n",
       "      <th>2538</th>\n",
       "      <td>INCR0080_1_D_003__3080_7680.jpg</td>\n",
       "      <td>0</td>\n",
       "      <td>train</td>\n",
       "    </tr>\n",
       "    <tr>\n",
       "      <th>2539</th>\n",
       "      <td>INCR0080_1_D_003__10248_12800.jpg</td>\n",
       "      <td>0</td>\n",
       "      <td>train</td>\n",
       "    </tr>\n",
       "    <tr>\n",
       "      <th>2540</th>\n",
       "      <td>INCR0080_1_D_003__10760_8192.jpg</td>\n",
       "      <td>0</td>\n",
       "      <td>train</td>\n",
       "    </tr>\n",
       "    <tr>\n",
       "      <th>2541</th>\n",
       "      <td>INCR0080_1_D_003__10248_7168.jpg</td>\n",
       "      <td>0</td>\n",
       "      <td>train</td>\n",
       "    </tr>\n",
       "    <tr>\n",
       "      <th>2542</th>\n",
       "      <td>INCR0080_1_D_003__3080_2048.jpg</td>\n",
       "      <td>0</td>\n",
       "      <td>train</td>\n",
       "    </tr>\n",
       "  </tbody>\n",
       "</table>\n",
       "<p>2543 rows × 3 columns</p>\n",
       "</div>"
      ],
      "text/plain": [
       "                                      0  1      2\n",
       "0        INCR0077_A_003__5120_12288.jpg  0  train\n",
       "1        INCR0077_A_003__14336_9216.jpg  0  train\n",
       "2        INCR0077_A_003__13312_9728.jpg  0  train\n",
       "3         INCR0077_A_003__2560_9728.jpg  0  train\n",
       "4         INCR0077_A_003__9728_5632.jpg  0  train\n",
       "...                                 ... ..    ...\n",
       "2538    INCR0080_1_D_003__3080_7680.jpg  0  train\n",
       "2539  INCR0080_1_D_003__10248_12800.jpg  0  train\n",
       "2540   INCR0080_1_D_003__10760_8192.jpg  0  train\n",
       "2541   INCR0080_1_D_003__10248_7168.jpg  0  train\n",
       "2542    INCR0080_1_D_003__3080_2048.jpg  0  train\n",
       "\n",
       "[2543 rows x 3 columns]"
      ]
     },
     "execution_count": 7,
     "metadata": {},
     "output_type": "execute_result"
    }
   ],
   "source": [
    "train[train[1]==0]"
   ]
  },
  {
   "cell_type": "code",
   "execution_count": null,
   "metadata": {},
   "outputs": [],
   "source": []
  }
 ],
 "metadata": {
  "kernelspec": {
   "display_name": "Python 3",
   "language": "python",
   "name": "python3"
  },
  "language_info": {
   "codemirror_mode": {
    "name": "ipython",
    "version": 3
   },
   "file_extension": ".py",
   "mimetype": "text/x-python",
   "name": "python",
   "nbconvert_exporter": "python",
   "pygments_lexer": "ipython3",
   "version": "3.8.8"
  }
 },
 "nbformat": 4,
 "nbformat_minor": 4
}
