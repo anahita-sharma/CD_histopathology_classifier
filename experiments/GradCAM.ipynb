{
 "cells": [
  {
   "cell_type": "code",
   "execution_count": 3,
   "metadata": {},
   "outputs": [],
   "source": [
    "from __future__ import print_function, division\n",
    "\n",
    "import os\n",
    "import time\n",
    "import copy\n",
    "import io\n",
    "import PIL\n",
    "from PIL import Image\n",
    "import pandas as pd\n",
    "import numpy as np\n",
    "import torch\n",
    "import torch.nn as nn\n",
    "import torch.optim as optim\n",
    "from torch.optim import lr_scheduler\n",
    "from torch.utils.data import Dataset, DataLoader\n",
    "import torchvision\n",
    "from torchvision.io import read_image\n",
    "from torchvision import datasets, models, transforms\n",
    "import matplotlib.pyplot as plt\n",
    "\n",
    "import requests\n",
    "\n",
    "from pytorch_grad_cam import GradCAM, ScoreCAM, GradCAMPlusPlus, AblationCAM, XGradCAM, EigenCAM, FullGrad\n",
    "# from pytorch_grad_cam.utils.model_targets import ClassifierOutputTarget\n",
    "from pytorch_grad_cam.utils.image import show_cam_on_image, preprocess_image\n",
    "from torchvision.models import resnet50\n",
    "\n",
    "import openslide\n",
    "import skimage\n",
    "import random\n",
    "\n",
    "plt.ion()   # interactive mode"
   ]
  },
  {
   "cell_type": "code",
   "execution_count": 4,
   "metadata": {},
   "outputs": [
    {
     "data": {
      "text/plain": [
       "'/project/GutIntelligenceLab/bwl3xy/data/inova_vs_cinc_crohns'"
      ]
     },
     "execution_count": 4,
     "metadata": {},
     "output_type": "execute_result"
    }
   ],
   "source": [
    "os.chdir(\"/project/GutIntelligenceLab/bwl3xy/data/inova_vs_cinc_crohns\")\n",
    "os.getcwd()"
   ]
  },
  {
   "cell_type": "code",
   "execution_count": 6,
   "metadata": {},
   "outputs": [],
   "source": [
    "image_val_df = pd.read_csv(\"inova_vs_cinc_val.csv\", header = None, names = [\"image\", \"class\", \"label\"])\n",
    "val_inova_df = image_val_df[image_val_df['class'] == 0]\n",
    "val_cinc_df = image_val_df[image_val_df['class'] == 1]\n",
    "\n",
    "image_train_df = pd.read_csv(\"inova_vs_cinc_train.csv\", header = None, names = [\"image\", \"class\", \"label\"])\n",
    "train_inova_df = image_train_df[image_train_df['class'] == 0]\n",
    "train_cinc_df = image_train_df[image_train_df['class'] == 1]"
   ]
  },
  {
   "cell_type": "code",
   "execution_count": 136,
   "metadata": {},
   "outputs": [],
   "source": [
    "path_root = \"/project/GutIntelligenceLab/bwl3xy/data/inova_vs_cinc_crohns\"\n",
    "val_image_path = \"/inova/\" + val_inova_df.iloc[random.randint(0, len(val_inova_df))].image\n",
    "train_image_path = \"/inova/\" + train_inova_df.iloc[random.randint(0, len(train_inova_df))].image\n",
    "val_image = Image.open(path_root + val_image_path)\n",
    "train_image = Image.open(path_root + train_image_path)"
   ]
  },
  {
   "cell_type": "code",
   "execution_count": 137,
   "metadata": {},
   "outputs": [],
   "source": [
    "rgb_val_image = np.float32(np.array(val_image))/255\n",
    "rgb_train_image = np.float32(np.array(train_image))/255"
   ]
  },
  {
   "cell_type": "code",
   "execution_count": 138,
   "metadata": {},
   "outputs": [],
   "source": [
    "mean = [0.485, 0.456, 0.406]\n",
    "std = [0.229, 0.224, 0.225]"
   ]
  },
  {
   "cell_type": "code",
   "execution_count": 139,
   "metadata": {},
   "outputs": [],
   "source": [
    "input_tensor = preprocess_image(rgb_train_image, mean, std)"
   ]
  },
  {
   "cell_type": "code",
   "execution_count": 140,
   "metadata": {},
   "outputs": [],
   "source": [
    "model = torch.load(\"/project/GutIntelligenceLab/bwl3xy/models/inova_vs_cinc_crohns.model\", map_location ='cpu')\n",
    "model.eval()\n",
    "target_layers = [model.layer4[-1]]"
   ]
  },
  {
   "cell_type": "code",
   "execution_count": 141,
   "metadata": {},
   "outputs": [],
   "source": [
    "cam = GradCAM(model = model, target_layers = target_layers)"
   ]
  },
  {
   "cell_type": "code",
   "execution_count": 142,
   "metadata": {},
   "outputs": [],
   "source": [
    "targets = None"
   ]
  },
  {
   "cell_type": "code",
   "execution_count": 143,
   "metadata": {},
   "outputs": [],
   "source": [
    "grayscale_cam = cam(input_tensor = input_tensor)#, targets = None)\n",
    "grayscale_cam = grayscale_cam[0, :]\n",
    "visualization = show_cam_on_image(rgb_train_image, grayscale_cam, use_rgb = True)"
   ]
  },
  {
   "cell_type": "code",
   "execution_count": 144,
   "metadata": {},
   "outputs": [],
   "source": [
    "viz = Image.fromarray(visualization)\n",
    "viz.save(\"inova_crohns_gradcam6.jpg\")"
   ]
  }
 ],
 "metadata": {
  "kernelspec": {
   "display_name": "PyTorch 1.8.1",
   "language": "python",
   "name": "pytorch-1.8.1"
  },
  "language_info": {
   "codemirror_mode": {
    "name": "ipython",
    "version": 3
   },
   "file_extension": ".py",
   "mimetype": "text/x-python",
   "name": "python",
   "nbconvert_exporter": "python",
   "pygments_lexer": "ipython3",
   "version": "3.8.8"
  }
 },
 "nbformat": 4,
 "nbformat_minor": 4
}
